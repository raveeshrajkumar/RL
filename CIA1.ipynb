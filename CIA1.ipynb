{
 "cells": [
  {
   "cell_type": "code",
   "execution_count": null,
   "metadata": {},
   "outputs": [
    {
     "name": "stdout",
     "output_type": "stream",
     "text": [
      "Final click values (average reward) for each article: [0.33333333 0.65       0.60714286 0.87303371 0.25      ]\n"
     ]
    }
   ],
   "source": [
    "import numpy as np\n",
    "\n",
    "class NewsValueMaximiser:\n",
    "    def __init__(self, n_arms, epsilon=0.1):\n",
    "        self.n_arms = n_arms\n",
    "        self.epsilon = epsilon\n",
    "        self.counts = np.zeros(n_arms)  # Number of times each article is selected\n",
    "        self.values = np.zeros(n_arms)  # Average reward (clicks) for each article\n",
    "\n",
    "    def select_arm(self):\n",
    "        if np.random.rand() < self.epsilon:\n",
    "            return np.random.randint(0, self.n_arms)  # Exploration\n",
    "        else:\n",
    "            return np.argmax(self.values)  # Exploitation\n",
    "\n",
    "    def update(self, chosen_arm, reward):\n",
    "        self.counts[chosen_arm] += 1\n",
    "        n = self.counts[chosen_arm]\n",
    "        current_value = self.values[chosen_arm]\n",
    "        # Incremental update formula for the average\n",
    "        new_value = current_value + (reward - current_value) / n\n",
    "        self.values[chosen_arm] = new_value\n",
    "\n",
    "    def run(self, rounds, reward_function):\n",
    "        for _ in range(rounds):\n",
    "            chosen_arm = self.select_arm()\n",
    "            reward = reward_function(chosen_arm)\n",
    "            self.update(chosen_arm, reward)\n",
    "        return self.values\n",
    "\n",
    "# Example reward function that simulates the reward based on chosen arm (article).\n",
    "def reward_function(chosen_arm):\n",
    "    # Simulate higher rewards for certain articles, for example:\n",
    "    article_popularity = [0.3, 0.7, 0.5, 0.9, 0.4]  # Example probabilities of clicks\n",
    "    return 1 if np.random.rand() < article_popularity[chosen_arm] else 0\n",
    "\n"
   ]
  },
  {
   "cell_type": "code",
   "execution_count": null,
   "metadata": {},
   "outputs": [],
   "source": [
    "# Set up and run the bandit\n",
    "n_arms = 5  # Suppose we have 5 articles\n",
    "bandit = NewsValueMaximiser(n_arms, epsilon=0.1)\n",
    "rounds = 1000  # Run the bandit for 1000 rounds\n",
    "\n",
    "final_values = bandit.run(rounds, reward_function)\n",
    "print(\"Final click values (average reward) for each article:\", final_values)"
   ]
  }
 ],
 "metadata": {
  "kernelspec": {
   "display_name": ".venv",
   "language": "python",
   "name": "python3"
  },
  "language_info": {
   "codemirror_mode": {
    "name": "ipython",
    "version": 3
   },
   "file_extension": ".py",
   "mimetype": "text/x-python",
   "name": "python",
   "nbconvert_exporter": "python",
   "pygments_lexer": "ipython3",
   "version": "3.12.3"
  }
 },
 "nbformat": 4,
 "nbformat_minor": 2
}
